{
 "cells": [
  {
   "cell_type": "markdown",
   "metadata": {
    "collapsed": true
   },
   "source": [
    "## If Statements"
   ]
  },
  {
   "cell_type": "code",
   "execution_count": null,
   "metadata": {},
   "outputs": [],
   "source": [
    "# Examples:\n",
    "\n",
    "if 1 + 3 == 2:\n",
    "    print(\"yes\")\n",
    "    \n",
    "    print('something else')\n",
    "    \n",
    "print(not True)\n",
    "print(True and False)"
   ]
  },
  {
   "cell_type": "code",
   "execution_count": null,
   "metadata": {},
   "outputs": [],
   "source": [
    "if 'banana' in ['dog', 'cat', 'fish', 'monkey']:\n",
    "    print(\"no\")\n",
    "\n",
    "elif 1 + 1 == 1 and 'banana' in 'My banana boat':\n",
    "    print(\"maybe\")\n",
    "    \n",
    "else:\n",
    "    print(\"yes\")\n",
    "    "
   ]
  },
  {
   "cell_type": "code",
   "execution_count": null,
   "metadata": {},
   "outputs": [],
   "source": [
    "if 123456789 % 3 == 0 and 987654321 % 5 == 0:\n",
    "    print(\"Divisible by 3 and 5.\")\n",
    "elif 123456789 % 3 == 0 or 987654321 % 5 == 0:\n",
    "    print(\"Divisible by 3 or 5.\")\n",
    "else:\n",
    "    print(\"Not divisible by 3 or 5.\")"
   ]
  },
  {
   "cell_type": "markdown",
   "metadata": {},
   "source": [
    "### Excercise 1:"
   ]
  },
  {
   "cell_type": "code",
   "execution_count": null,
   "metadata": {},
   "outputs": [],
   "source": [
    "# Write some code that tells us if x + y is not equal to 7.\n",
    "x = 2\n",
    "y = 3\n",
    "\n"
   ]
  },
  {
   "cell_type": "code",
   "execution_count": null,
   "metadata": {},
   "outputs": [],
   "source": [
    "# Write some code to see if the string 'frankenstein' (variable f) is in the variable s\n",
    "f = 'frankenstein'\n",
    "s = 'ljhgkhgu Frankenstein Monster'"
   ]
  },
  {
   "cell_type": "markdown",
   "metadata": {},
   "source": [
    "## For loops"
   ]
  },
  {
   "cell_type": "code",
   "execution_count": null,
   "metadata": {},
   "outputs": [],
   "source": [
    "# Examples:\n",
    "\n",
    "for character in 'abcdef':\n",
    "    print(character)"
   ]
  },
  {
   "cell_type": "code",
   "execution_count": null,
   "metadata": {},
   "outputs": [],
   "source": [
    "for character in ['Captain Hook', 'Peter Pan', 'Tinkerbell']:\n",
    "    print(character)\n",
    "    for j in character:\n",
    "        print(j)"
   ]
  },
  {
   "cell_type": "code",
   "execution_count": null,
   "metadata": {},
   "outputs": [],
   "source": [
    "for number in range(10):\n",
    "    print(number * 'a')"
   ]
  },
  {
   "cell_type": "code",
   "execution_count": null,
   "metadata": {},
   "outputs": [],
   "source": [
    "for number in range(10):\n",
    "    if number % 2 == 1:\n",
    "        print(number)"
   ]
  },
  {
   "cell_type": "markdown",
   "metadata": {},
   "source": [
    "### Exercise 2: Fizz buzz\n",
    "For numbers from 0 to 100. If a number is divisible by 3 print 'fizz' and if a number is divisible by 5 print 'buzz'. Otherwise print the number.\n",
    "\n",
    "Example:\n",
    "1\n",
    "2\n",
    "fizz\n",
    "4\n",
    "buzz\n",
    "fizz\n",
    "7\n",
    "..."
   ]
  },
  {
   "cell_type": "code",
   "execution_count": null,
   "metadata": {},
   "outputs": [],
   "source": [
    "# Answer here..."
   ]
  },
  {
   "cell_type": "markdown",
   "metadata": {},
   "source": [
    "## Excercise 3: Fizzbuz cont..\n",
    "\n",
    "Once you have your words, please count how many times they appear in the loop. Try to make universal code that if we change fizzbuzz to your name it will still count those words correctly."
   ]
  },
  {
   "cell_type": "code",
   "execution_count": null,
   "metadata": {},
   "outputs": [],
   "source": [
    "# Answer here..."
   ]
  }
 ],
 "metadata": {
  "kernelspec": {
   "display_name": "Python 3",
   "language": "python",
   "name": "python3"
  },
  "language_info": {
   "codemirror_mode": {
    "name": "ipython",
    "version": 3
   },
   "file_extension": ".py",
   "mimetype": "text/x-python",
   "name": "python",
   "nbconvert_exporter": "python",
   "pygments_lexer": "ipython3",
   "version": "3.6.5"
  },
  "pycharm": {
   "stem_cell": {
    "cell_type": "raw",
    "source": [],
    "metadata": {
     "collapsed": false
    }
   }
  }
 },
 "nbformat": 4,
 "nbformat_minor": 1
}